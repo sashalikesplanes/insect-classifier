{
 "cells": [
  {
   "cell_type": "markdown",
   "id": "e5358489-993d-40d7-998b-eb1468eaba09",
   "metadata": {},
   "source": [
    "# Insect Classifier\n",
    "First personal fast ai project by @sasha\n",
    "\n",
    "### Goal\n",
    "Create a simple web app where a user may upload the picture of an insect found in their house and it is classified into one of the top 7 common insects (spiders, mosquitos, fruit flies, bed bugs, cockroaches, moths, silverfish) or informs the user that it does not know the insect.\n",
    "\n",
    "### This file:\n",
    "This file provides a graphical interface for interacting with the model for inference\n",
    "\n"
   ]
  },
  {
   "cell_type": "markdown",
   "id": "69213898",
   "metadata": {},
   "source": [
    "## Classify your insect here:"
   ]
  },
  {
   "cell_type": "code",
   "execution_count": 32,
   "id": "9a163a26-2902-4e5b-bb62-034dcc27c5e2",
   "metadata": {},
   "outputs": [],
   "source": [
    "from fastbook import *\n",
    "from fastai.vision.widgets import *\n",
    "import os"
   ]
  },
  {
   "cell_type": "code",
   "execution_count": 33,
   "id": "b4d98fe2-017b-4363-93f4-a3d52eda8c5b",
   "metadata": {},
   "outputs": [
    {
     "name": "stdout",
     "output_type": "stream",
     "text": [
      "[Path('multimod.pkl'), Path('__pycache__'), Path('.git'), Path('single_class_model_creator.ipynb'), Path('.ipynb_checkpoints'), Path('multi_cat_model.ipynb'), Path('reqs'), Path('insects'), Path('.private.py'), Path('export.pkl'), Path('multi_model.pkl'), Path('model_inferer.ipynb'), Path('private.py'), Path('.gitignore')]\n"
     ]
    }
   ],
   "source": [
    "print(Path().ls())"
   ]
  },
  {
   "cell_type": "code",
   "execution_count": 34,
   "id": "7e408316-3994-4d41-9ccf-33f443a26377",
   "metadata": {},
   "outputs": [],
   "source": [
    "def return_list(x): return [x] #need to add this custom function from learner"
   ]
  },
  {
   "cell_type": "code",
   "execution_count": 35,
   "id": "2868276f-39d7-450a-a5d3-174df4510b4e",
   "metadata": {},
   "outputs": [],
   "source": [
    "inferer = load_learner('multimod.pkl')"
   ]
  },
  {
   "cell_type": "code",
   "execution_count": 36,
   "id": "69df5092-c9d7-45bc-a4e0-3dbce0b3f8ac",
   "metadata": {},
   "outputs": [],
   "source": [
    "upload = widgets.FileUpload()\n",
    "img_display = widgets.Output()\n",
    "prediction = widgets.Label()\n",
    "class_btn = widgets.Button(description = \"Classify this insect!\")"
   ]
  },
  {
   "cell_type": "code",
   "execution_count": 37,
   "id": "f980e89c-56ee-4f60-a13c-170c44b959a5",
   "metadata": {},
   "outputs": [],
   "source": [
    "def on_click_class(change):\n",
    "    image = PILImage.create(upload.data[-1])\n",
    "    img_display.clear_output()\n",
    "    with img_display: display(image.to_thumb(128, 128))\n",
    "    label, _, probs = inferer.predict(image)\n",
    "    if probs.max().item() > 0.7:\n",
    "        prediction.value = f\"I am guessing this is a {label[0]} with a probability of: {probs.max().item() * 100:.04f}%\"\n",
    "    else:\n",
    "        prediction.value = \"Excuse me I am not sure what this is\"\n",
    "class_btn.on_click(on_click_class)"
   ]
  },
  {
   "cell_type": "code",
   "execution_count": 38,
   "id": "f5cf2b51-bf61-41c5-91c3-e183f3f2be4e",
   "metadata": {},
   "outputs": [
    {
     "data": {
      "application/vnd.jupyter.widget-view+json": {
       "model_id": "e03f8ecf2cf94917a1b217d69a6181c6",
       "version_major": 2,
       "version_minor": 0
      },
      "text/plain": [
       "VBox(children=(Label(value='Lets find out what your insect is!'), FileUpload(value={}, description='Upload'), …"
      ]
     },
     "metadata": {},
     "output_type": "display_data"
    }
   ],
   "source": [
    "VBox([widgets.Label(\"Lets find out what your insect is!\"), upload, class_btn, img_display, prediction])\n"
   ]
  }
 ],
 "metadata": {
  "environment": {
   "name": "pytorch-gpu.1-9.m81",
   "type": "gcloud",
   "uri": "gcr.io/deeplearning-platform-release/pytorch-gpu.1-9:m81"
  },
  "kernelspec": {
   "display_name": "Python [conda env:root] *",
   "language": "python",
   "name": "conda-root-py"
  },
  "language_info": {
   "codemirror_mode": {
    "name": "ipython",
    "version": 3
   },
   "file_extension": ".py",
   "mimetype": "text/x-python",
   "name": "python",
   "nbconvert_exporter": "python",
   "pygments_lexer": "ipython3",
   "version": "3.7.10"
  }
 },
 "nbformat": 4,
 "nbformat_minor": 5
}
